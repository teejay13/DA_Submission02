{
 "cells": [
  {
   "cell_type": "markdown",
   "id": "abd7b84b",
   "metadata": {},
   "source": [
    "# Big Pharma Stock Data Forecasting\n",
    "## by Abdulhaq Adetunji Salako\n",
    "\n",
    "## Introduction\n",
    "Big Pharma is a large pharmaceutical distribution company in Germany. The data set has been stored as a csv file, it has 3 features and 1048575 entries. The features including Date, Product ID,and Stock Demand.\n",
    "\n",
    "## Preliminary Wrangling"
   ]
  },
  {
   "cell_type": "code",
   "execution_count": 1,
   "id": "389a6bbc",
   "metadata": {},
   "outputs": [],
   "source": [
    "# import all packages and set plots to be embedded inline\n",
    "import numpy as np\n",
    "import pandas as pd\n",
    "import plotly.express as px\n",
    "import seaborn as sns\n",
    "import matplotlib.pyplot as plt\n",
    "from matplotlib import dates as mdates\n",
    "\n",
    "%matplotlib inline\n",
    "\n",
    "# suppress warnings from final output\n",
    "import warnings\n",
    "warnings.simplefilter(\"ignore\")\n",
    "\n",
    "\n",
    "import xgboost as xgb\n",
    "from sklearn.metrics import mean_squared_error\n",
    "from sklearn.model_selection import train_test_split\n",
    "from sklearn.model_selection import TimeSeriesSplit\n",
    "from sklearn import preprocessing\n"
   ]
  },
  {
   "cell_type": "markdown",
   "id": "6c0d1fa2",
   "metadata": {},
   "source": [
    "A quick look at the information about the dataset, using pandas shape, info,and describe method.\n",
    "\n",
    "\n",
    "<ul>\n",
    "  <li>Date: The date a product was purchased</li>\n",
    "  <li>Product ID: The ID for the product</li>\n",
    "  <li>Stock Demand: The quantity of product purchased (unit is in boxes)</li>\n",
    "</ul>\n",
    "\n",
    "\n"
   ]
  },
  {
   "cell_type": "code",
   "execution_count": 2,
   "id": "109f595e",
   "metadata": {},
   "outputs": [],
   "source": [
    "# load in the dataset into a pandas dataframe\n",
    "df = pd.read_csv('pharmaceutical-sales-demand.csv') "
   ]
  },
  {
   "cell_type": "code",
   "execution_count": 3,
   "id": "568dc1b7",
   "metadata": {},
   "outputs": [
    {
     "data": {
      "text/html": [
       "<div>\n",
       "<style scoped>\n",
       "    .dataframe tbody tr th:only-of-type {\n",
       "        vertical-align: middle;\n",
       "    }\n",
       "\n",
       "    .dataframe tbody tr th {\n",
       "        vertical-align: top;\n",
       "    }\n",
       "\n",
       "    .dataframe thead th {\n",
       "        text-align: right;\n",
       "    }\n",
       "</style>\n",
       "<table border=\"1\" class=\"dataframe\">\n",
       "  <thead>\n",
       "    <tr style=\"text-align: right;\">\n",
       "      <th></th>\n",
       "      <th>Date</th>\n",
       "      <th>Product ID</th>\n",
       "      <th>Stock Demand</th>\n",
       "    </tr>\n",
       "  </thead>\n",
       "  <tbody>\n",
       "    <tr>\n",
       "      <th>0</th>\n",
       "      <td>10/5/2020</td>\n",
       "      <td>I6DO4</td>\n",
       "      <td>-1</td>\n",
       "    </tr>\n",
       "    <tr>\n",
       "      <th>1</th>\n",
       "      <td>10/5/2020</td>\n",
       "      <td>O40SR</td>\n",
       "      <td>16</td>\n",
       "    </tr>\n",
       "    <tr>\n",
       "      <th>2</th>\n",
       "      <td>10/19/2020</td>\n",
       "      <td>Y03MS</td>\n",
       "      <td>306</td>\n",
       "    </tr>\n",
       "    <tr>\n",
       "      <th>3</th>\n",
       "      <td>10/8/2020</td>\n",
       "      <td>B0OR2</td>\n",
       "      <td>307</td>\n",
       "    </tr>\n",
       "    <tr>\n",
       "      <th>4</th>\n",
       "      <td>10/2/2020</td>\n",
       "      <td>EIM03</td>\n",
       "      <td>6</td>\n",
       "    </tr>\n",
       "  </tbody>\n",
       "</table>\n",
       "</div>"
      ],
      "text/plain": [
       "         Date Product ID  Stock Demand\n",
       "0   10/5/2020      I6DO4            -1\n",
       "1   10/5/2020      O40SR            16\n",
       "2  10/19/2020      Y03MS           306\n",
       "3   10/8/2020      B0OR2           307\n",
       "4   10/2/2020      EIM03             6"
      ]
     },
     "execution_count": 3,
     "metadata": {},
     "output_type": "execute_result"
    }
   ],
   "source": [
    "df.head()"
   ]
  },
  {
   "cell_type": "code",
   "execution_count": 4,
   "id": "a071f157",
   "metadata": {},
   "outputs": [
    {
     "data": {
      "text/plain": [
       "(1048575, 3)"
      ]
     },
     "execution_count": 4,
     "metadata": {},
     "output_type": "execute_result"
    }
   ],
   "source": [
    "df.shape"
   ]
  },
  {
   "cell_type": "code",
   "execution_count": 5,
   "id": "697c92c6",
   "metadata": {},
   "outputs": [
    {
     "data": {
      "text/html": [
       "<div>\n",
       "<style scoped>\n",
       "    .dataframe tbody tr th:only-of-type {\n",
       "        vertical-align: middle;\n",
       "    }\n",
       "\n",
       "    .dataframe tbody tr th {\n",
       "        vertical-align: top;\n",
       "    }\n",
       "\n",
       "    .dataframe thead th {\n",
       "        text-align: right;\n",
       "    }\n",
       "</style>\n",
       "<table border=\"1\" class=\"dataframe\">\n",
       "  <thead>\n",
       "    <tr style=\"text-align: right;\">\n",
       "      <th></th>\n",
       "      <th>Stock Demand</th>\n",
       "    </tr>\n",
       "  </thead>\n",
       "  <tbody>\n",
       "    <tr>\n",
       "      <th>count</th>\n",
       "      <td>1.048575e+06</td>\n",
       "    </tr>\n",
       "    <tr>\n",
       "      <th>mean</th>\n",
       "      <td>7.970586e+01</td>\n",
       "    </tr>\n",
       "    <tr>\n",
       "      <th>std</th>\n",
       "      <td>6.100230e+02</td>\n",
       "    </tr>\n",
       "    <tr>\n",
       "      <th>min</th>\n",
       "      <td>-1.222600e+04</td>\n",
       "    </tr>\n",
       "    <tr>\n",
       "      <th>25%</th>\n",
       "      <td>3.000000e+00</td>\n",
       "    </tr>\n",
       "    <tr>\n",
       "      <th>50%</th>\n",
       "      <td>9.000000e+00</td>\n",
       "    </tr>\n",
       "    <tr>\n",
       "      <th>75%</th>\n",
       "      <td>3.100000e+01</td>\n",
       "    </tr>\n",
       "    <tr>\n",
       "      <th>max</th>\n",
       "      <td>1.490040e+05</td>\n",
       "    </tr>\n",
       "  </tbody>\n",
       "</table>\n",
       "</div>"
      ],
      "text/plain": [
       "       Stock Demand\n",
       "count  1.048575e+06\n",
       "mean   7.970586e+01\n",
       "std    6.100230e+02\n",
       "min   -1.222600e+04\n",
       "25%    3.000000e+00\n",
       "50%    9.000000e+00\n",
       "75%    3.100000e+01\n",
       "max    1.490040e+05"
      ]
     },
     "execution_count": 5,
     "metadata": {},
     "output_type": "execute_result"
    }
   ],
   "source": [
    "df.describe()"
   ]
  },
  {
   "cell_type": "code",
   "execution_count": 6,
   "id": "b4c2d588",
   "metadata": {},
   "outputs": [
    {
     "name": "stdout",
     "output_type": "stream",
     "text": [
      "<class 'pandas.core.frame.DataFrame'>\n",
      "RangeIndex: 1048575 entries, 0 to 1048574\n",
      "Data columns (total 3 columns):\n",
      " #   Column        Non-Null Count    Dtype \n",
      "---  ------        --------------    ----- \n",
      " 0   Date          1048575 non-null  object\n",
      " 1   Product ID    1048575 non-null  object\n",
      " 2   Stock Demand  1048575 non-null  int64 \n",
      "dtypes: int64(1), object(2)\n",
      "memory usage: 24.0+ MB\n"
     ]
    }
   ],
   "source": [
    "df.info()"
   ]
  },
  {
   "cell_type": "markdown",
   "id": "3ee3a783",
   "metadata": {},
   "source": [
    "# Data Cleaning\n",
    "\n",
    "The **Time** column is stored as a string. To convert it to datetime, the function pd.to_datetime() is used."
   ]
  },
  {
   "cell_type": "code",
   "execution_count": 7,
   "id": "d6bdf87d",
   "metadata": {},
   "outputs": [],
   "source": [
    "# Converting Date from String to datetime64\n",
    "df['Date'] = pd.to_datetime(df['Date'])"
   ]
  },
  {
   "cell_type": "code",
   "execution_count": 8,
   "id": "330f7dfc",
   "metadata": {},
   "outputs": [
    {
     "name": "stdout",
     "output_type": "stream",
     "text": [
      "<class 'pandas.core.frame.DataFrame'>\n",
      "RangeIndex: 1048575 entries, 0 to 1048574\n",
      "Data columns (total 3 columns):\n",
      " #   Column        Non-Null Count    Dtype         \n",
      "---  ------        --------------    -----         \n",
      " 0   Date          1048575 non-null  datetime64[ns]\n",
      " 1   Product ID    1048575 non-null  object        \n",
      " 2   Stock Demand  1048575 non-null  int64         \n",
      "dtypes: datetime64[ns](1), int64(1), object(1)\n",
      "memory usage: 24.0+ MB\n"
     ]
    }
   ],
   "source": [
    "df.info()"
   ]
  },
  {
   "cell_type": "code",
   "execution_count": 9,
   "id": "70691512",
   "metadata": {},
   "outputs": [],
   "source": [
    "# change all features naming conventions \n",
    "df = df.rename(columns={'Product ID': 'product_id','Date':'date' ,'Stock Demand': 'stock_demand'})"
   ]
  },
  {
   "cell_type": "code",
   "execution_count": 10,
   "id": "842d1dd2",
   "metadata": {
    "scrolled": false
   },
   "outputs": [
    {
     "data": {
      "text/html": [
       "<div>\n",
       "<style scoped>\n",
       "    .dataframe tbody tr th:only-of-type {\n",
       "        vertical-align: middle;\n",
       "    }\n",
       "\n",
       "    .dataframe tbody tr th {\n",
       "        vertical-align: top;\n",
       "    }\n",
       "\n",
       "    .dataframe thead th {\n",
       "        text-align: right;\n",
       "    }\n",
       "</style>\n",
       "<table border=\"1\" class=\"dataframe\">\n",
       "  <thead>\n",
       "    <tr style=\"text-align: right;\">\n",
       "      <th></th>\n",
       "      <th>date</th>\n",
       "      <th>product_id</th>\n",
       "      <th>stock_demand</th>\n",
       "    </tr>\n",
       "  </thead>\n",
       "  <tbody>\n",
       "    <tr>\n",
       "      <th>437861</th>\n",
       "      <td>2021-01-19</td>\n",
       "      <td>1IXM0</td>\n",
       "      <td>16</td>\n",
       "    </tr>\n",
       "    <tr>\n",
       "      <th>177735</th>\n",
       "      <td>2020-11-27</td>\n",
       "      <td>LU10G</td>\n",
       "      <td>4</td>\n",
       "    </tr>\n",
       "    <tr>\n",
       "      <th>551373</th>\n",
       "      <td>2021-03-28</td>\n",
       "      <td>R10ES</td>\n",
       "      <td>9</td>\n",
       "    </tr>\n",
       "    <tr>\n",
       "      <th>999039</th>\n",
       "      <td>2021-06-23</td>\n",
       "      <td>4I3PA</td>\n",
       "      <td>4</td>\n",
       "    </tr>\n",
       "    <tr>\n",
       "      <th>1015598</th>\n",
       "      <td>2021-07-14</td>\n",
       "      <td>N0SI1</td>\n",
       "      <td>6</td>\n",
       "    </tr>\n",
       "  </tbody>\n",
       "</table>\n",
       "</div>"
      ],
      "text/plain": [
       "              date product_id  stock_demand\n",
       "437861  2021-01-19      1IXM0            16\n",
       "177735  2020-11-27      LU10G             4\n",
       "551373  2021-03-28      R10ES             9\n",
       "999039  2021-06-23      4I3PA             4\n",
       "1015598 2021-07-14      N0SI1             6"
      ]
     },
     "execution_count": 10,
     "metadata": {},
     "output_type": "execute_result"
    }
   ],
   "source": [
    "df.sample(5)"
   ]
  },
  {
   "cell_type": "code",
   "execution_count": 11,
   "id": "b0f03a9c",
   "metadata": {},
   "outputs": [
    {
     "data": {
      "image/png": "[encoded data removed]",
      "text/plain": [
       "<Figure size 1080x360 with 1 Axes>"
      ]
     },
     "metadata": {
      "needs_background": "light"
     },
     "output_type": "display_data"
    }
   ],
   "source": [
    "df.plot(x=\"date\",y=\"stock_demand\" ,style='.',\n",
    "        figsize=(15, 5),\n",
    "        title='product purchased (unit is in boxes)')\n",
    "plt.show()"
   ]
  },
  {
   "cell_type": "code",
   "execution_count": 12,
   "id": "8c7fe348",
   "metadata": {},
   "outputs": [],
   "source": [
    "#Date Features\n",
    "def date_features(df):\n",
    "    df['year'] = df['date'].dt.year\n",
    "    df['month'] = df['date'].dt.month\n",
    "    df['day'] = df['date'].dt.day\n",
    "    df['day_of_year'] = df['date'].dt.dayofyear\n",
    "    df['day_of_week'] = df['date'].dt.dayofweek\n",
    "    df['week_of_year'] = df['date'].dt.isocalendar().week\n",
    "    \n",
    "    # Drop date\n",
    "    df.drop('date', axis=1, inplace=True)\n",
    "    \n",
    "    return df"
   ]
  },
  {
   "cell_type": "code",
   "execution_count": 13,
   "id": "9543e90a",
   "metadata": {},
   "outputs": [
    {
     "data": {
      "text/html": [
       "<div>\n",
       "<style scoped>\n",
       "    .dataframe tbody tr th:only-of-type {\n",
       "        vertical-align: middle;\n",
       "    }\n",
       "\n",
       "    .dataframe tbody tr th {\n",
       "        vertical-align: top;\n",
       "    }\n",
       "\n",
       "    .dataframe thead th {\n",
       "        text-align: right;\n",
       "    }\n",
       "</style>\n",
       "<table border=\"1\" class=\"dataframe\">\n",
       "  <thead>\n",
       "    <tr style=\"text-align: right;\">\n",
       "      <th></th>\n",
       "      <th>product_id</th>\n",
       "      <th>stock_demand</th>\n",
       "      <th>year</th>\n",
       "      <th>month</th>\n",
       "      <th>day</th>\n",
       "      <th>day_of_year</th>\n",
       "      <th>day_of_week</th>\n",
       "      <th>week_of_year</th>\n",
       "    </tr>\n",
       "  </thead>\n",
       "  <tbody>\n",
       "    <tr>\n",
       "      <th>472316</th>\n",
       "      <td>U0O1L</td>\n",
       "      <td>7</td>\n",
       "      <td>2021</td>\n",
       "      <td>2</td>\n",
       "      <td>22</td>\n",
       "      <td>53</td>\n",
       "      <td>0</td>\n",
       "      <td>8</td>\n",
       "    </tr>\n",
       "    <tr>\n",
       "      <th>585824</th>\n",
       "      <td>1DS0M</td>\n",
       "      <td>34</td>\n",
       "      <td>2021</td>\n",
       "      <td>3</td>\n",
       "      <td>26</td>\n",
       "      <td>85</td>\n",
       "      <td>4</td>\n",
       "      <td>12</td>\n",
       "    </tr>\n",
       "    <tr>\n",
       "      <th>144922</th>\n",
       "      <td>1G0LI</td>\n",
       "      <td>57</td>\n",
       "      <td>2020</td>\n",
       "      <td>11</td>\n",
       "      <td>4</td>\n",
       "      <td>309</td>\n",
       "      <td>2</td>\n",
       "      <td>45</td>\n",
       "    </tr>\n",
       "    <tr>\n",
       "      <th>591424</th>\n",
       "      <td>UCT01</td>\n",
       "      <td>147</td>\n",
       "      <td>2021</td>\n",
       "      <td>3</td>\n",
       "      <td>23</td>\n",
       "      <td>82</td>\n",
       "      <td>1</td>\n",
       "      <td>12</td>\n",
       "    </tr>\n",
       "    <tr>\n",
       "      <th>688892</th>\n",
       "      <td>1IRT0</td>\n",
       "      <td>11</td>\n",
       "      <td>2021</td>\n",
       "      <td>4</td>\n",
       "      <td>20</td>\n",
       "      <td>110</td>\n",
       "      <td>1</td>\n",
       "      <td>16</td>\n",
       "    </tr>\n",
       "  </tbody>\n",
       "</table>\n",
       "</div>"
      ],
      "text/plain": [
       "       product_id  stock_demand  year  month  day  day_of_year  day_of_week  \\\n",
       "472316      U0O1L             7  2021      2   22           53            0   \n",
       "585824      1DS0M            34  2021      3   26           85            4   \n",
       "144922      1G0LI            57  2020     11    4          309            2   \n",
       "591424      UCT01           147  2021      3   23           82            1   \n",
       "688892      1IRT0            11  2021      4   20          110            1   \n",
       "\n",
       "        week_of_year  \n",
       "472316             8  \n",
       "585824            12  \n",
       "144922            45  \n",
       "591424            12  \n",
       "688892            16  "
      ]
     },
     "execution_count": 13,
     "metadata": {},
     "output_type": "execute_result"
    }
   ],
   "source": [
    "df = date_features(df)\n",
    "\n",
    "df.sample(5)"
   ]
  },
  {
   "cell_type": "code",
   "execution_count": 14,
   "id": "1b189a83",
   "metadata": {},
   "outputs": [
    {
     "data": {
      "text/html": [
       "<div>\n",
       "<style scoped>\n",
       "    .dataframe tbody tr th:only-of-type {\n",
       "        vertical-align: middle;\n",
       "    }\n",
       "\n",
       "    .dataframe tbody tr th {\n",
       "        vertical-align: top;\n",
       "    }\n",
       "\n",
       "    .dataframe thead th {\n",
       "        text-align: right;\n",
       "    }\n",
       "</style>\n",
       "<table border=\"1\" class=\"dataframe\">\n",
       "  <thead>\n",
       "    <tr style=\"text-align: right;\">\n",
       "      <th></th>\n",
       "      <th>product_id</th>\n",
       "      <th>stock_demand</th>\n",
       "      <th>year</th>\n",
       "      <th>month</th>\n",
       "      <th>day</th>\n",
       "      <th>day_of_year</th>\n",
       "      <th>day_of_week</th>\n",
       "      <th>week_of_year</th>\n",
       "    </tr>\n",
       "  </thead>\n",
       "  <tbody>\n",
       "    <tr>\n",
       "      <th>0</th>\n",
       "      <td>I6DO4</td>\n",
       "      <td>-1</td>\n",
       "      <td>2020</td>\n",
       "      <td>10</td>\n",
       "      <td>5</td>\n",
       "      <td>279</td>\n",
       "      <td>0</td>\n",
       "      <td>41</td>\n",
       "    </tr>\n",
       "    <tr>\n",
       "      <th>1</th>\n",
       "      <td>O40SR</td>\n",
       "      <td>16</td>\n",
       "      <td>2020</td>\n",
       "      <td>10</td>\n",
       "      <td>5</td>\n",
       "      <td>279</td>\n",
       "      <td>0</td>\n",
       "      <td>41</td>\n",
       "    </tr>\n",
       "    <tr>\n",
       "      <th>2</th>\n",
       "      <td>Y03MS</td>\n",
       "      <td>306</td>\n",
       "      <td>2020</td>\n",
       "      <td>10</td>\n",
       "      <td>19</td>\n",
       "      <td>293</td>\n",
       "      <td>0</td>\n",
       "      <td>43</td>\n",
       "    </tr>\n",
       "    <tr>\n",
       "      <th>3</th>\n",
       "      <td>B0OR2</td>\n",
       "      <td>307</td>\n",
       "      <td>2020</td>\n",
       "      <td>10</td>\n",
       "      <td>8</td>\n",
       "      <td>282</td>\n",
       "      <td>3</td>\n",
       "      <td>41</td>\n",
       "    </tr>\n",
       "    <tr>\n",
       "      <th>4</th>\n",
       "      <td>EIM03</td>\n",
       "      <td>6</td>\n",
       "      <td>2020</td>\n",
       "      <td>10</td>\n",
       "      <td>2</td>\n",
       "      <td>276</td>\n",
       "      <td>4</td>\n",
       "      <td>40</td>\n",
       "    </tr>\n",
       "    <tr>\n",
       "      <th>1048570</th>\n",
       "      <td>E2V0E</td>\n",
       "      <td>262</td>\n",
       "      <td>2021</td>\n",
       "      <td>7</td>\n",
       "      <td>28</td>\n",
       "      <td>209</td>\n",
       "      <td>2</td>\n",
       "      <td>30</td>\n",
       "    </tr>\n",
       "    <tr>\n",
       "      <th>1048571</th>\n",
       "      <td>E1SC3</td>\n",
       "      <td>5</td>\n",
       "      <td>2021</td>\n",
       "      <td>7</td>\n",
       "      <td>30</td>\n",
       "      <td>211</td>\n",
       "      <td>4</td>\n",
       "      <td>30</td>\n",
       "    </tr>\n",
       "    <tr>\n",
       "      <th>1048572</th>\n",
       "      <td>A2SN0</td>\n",
       "      <td>5235</td>\n",
       "      <td>2021</td>\n",
       "      <td>7</td>\n",
       "      <td>22</td>\n",
       "      <td>203</td>\n",
       "      <td>3</td>\n",
       "      <td>29</td>\n",
       "    </tr>\n",
       "    <tr>\n",
       "      <th>1048573</th>\n",
       "      <td>G020L</td>\n",
       "      <td>3</td>\n",
       "      <td>2021</td>\n",
       "      <td>7</td>\n",
       "      <td>30</td>\n",
       "      <td>211</td>\n",
       "      <td>4</td>\n",
       "      <td>30</td>\n",
       "    </tr>\n",
       "    <tr>\n",
       "      <th>1048574</th>\n",
       "      <td>RT2A0</td>\n",
       "      <td>1</td>\n",
       "      <td>2021</td>\n",
       "      <td>7</td>\n",
       "      <td>30</td>\n",
       "      <td>211</td>\n",
       "      <td>4</td>\n",
       "      <td>30</td>\n",
       "    </tr>\n",
       "  </tbody>\n",
       "</table>\n",
       "</div>"
      ],
      "text/plain": [
       "        product_id  stock_demand  year  month  day  day_of_year  day_of_week  \\\n",
       "0            I6DO4            -1  2020     10    5          279            0   \n",
       "1            O40SR            16  2020     10    5          279            0   \n",
       "2            Y03MS           306  2020     10   19          293            0   \n",
       "3            B0OR2           307  2020     10    8          282            3   \n",
       "4            EIM03             6  2020     10    2          276            4   \n",
       "1048570      E2V0E           262  2021      7   28          209            2   \n",
       "1048571      E1SC3             5  2021      7   30          211            4   \n",
       "1048572      A2SN0          5235  2021      7   22          203            3   \n",
       "1048573      G020L             3  2021      7   30          211            4   \n",
       "1048574      RT2A0             1  2021      7   30          211            4   \n",
       "\n",
       "         week_of_year  \n",
       "0                  41  \n",
       "1                  41  \n",
       "2                  43  \n",
       "3                  41  \n",
       "4                  40  \n",
       "1048570            30  \n",
       "1048571            30  \n",
       "1048572            29  \n",
       "1048573            30  \n",
       "1048574            30  "
      ]
     },
     "execution_count": 14,
     "metadata": {},
     "output_type": "execute_result"
    }
   ],
   "source": [
    "df_stock = df.copy()\n",
    "pd.concat([df_stock.head(5),df_stock.tail(5)])"
   ]
  },
  {
   "cell_type": "code",
   "execution_count": 15,
   "id": "d608ba42",
   "metadata": {},
   "outputs": [
    {
     "data": {
      "text/plain": [
       "min   2020-10-01\n",
       "max   2021-07-31\n",
       "Name: date, dtype: datetime64[ns]"
      ]
     },
     "execution_count": 15,
     "metadata": {},
     "output_type": "execute_result"
    }
   ],
   "source": [
    "df_stock['date'] =  pd.to_datetime(df_stock[[\"year\",\"month\",\"day\"]])\n",
    "df_stock['date'].agg(['min', 'max'])\n"
   ]
  },
  {
   "cell_type": "code",
   "execution_count": 16,
   "id": "b64e7cd1",
   "metadata": {},
   "outputs": [
    {
     "data": {
      "text/plain": [
       "min   2020-10-01\n",
       "max   2021-07-31\n",
       "Name: date, dtype: datetime64[ns]"
      ]
     },
     "execution_count": 16,
     "metadata": {},
     "output_type": "execute_result"
    }
   ],
   "source": [
    "df_stock['date'].agg(['min', 'max'])"
   ]
  },
  {
   "cell_type": "code",
   "execution_count": 17,
   "id": "cfa07f73",
   "metadata": {},
   "outputs": [
    {
     "data": {
      "text/plain": [
       "product_id  stock_demand\n",
       "0010R       1               6\n",
       "            2               3\n",
       "            5               2\n",
       "            3               1\n",
       "            6               1\n",
       "                           ..\n",
       "ZVI02       51              1\n",
       "            56              1\n",
       "            3000            1\n",
       "            3001            1\n",
       "            3003            1\n",
       "Name: stock_demand, Length: 311972, dtype: int64"
      ]
     },
     "execution_count": 17,
     "metadata": {},
     "output_type": "execute_result"
    }
   ],
   "source": [
    "df_stock.groupby('product_id').stock_demand.value_counts()"
   ]
  },
  {
   "cell_type": "code",
   "execution_count": 18,
   "id": "9cccd9be",
   "metadata": {
    "scrolled": true
   },
   "outputs": [
    {
     "data": {
      "text/plain": [
       "product_id      0\n",
       "stock_demand    0\n",
       "year            0\n",
       "month           0\n",
       "day             0\n",
       "day_of_year     0\n",
       "day_of_week     0\n",
       "week_of_year    0\n",
       "date            0\n",
       "dtype: int64"
      ]
     },
     "execution_count": 18,
     "metadata": {},
     "output_type": "execute_result"
    }
   ],
   "source": [
    "df_stock.isna().sum()"
   ]
  },
  {
   "cell_type": "code",
   "execution_count": 19,
   "id": "10a2f35e",
   "metadata": {},
   "outputs": [],
   "source": [
    "#Exploratory Visual\n",
    "\n",
    "# default sns theme\n",
    "sns.set_style('darkgrid')\n",
    "\n",
    "colorChoice = sns.color_palette()[0]"
   ]
  },
  {
   "cell_type": "code",
   "execution_count": 20,
   "id": "423a4fc1",
   "metadata": {},
   "outputs": [
    {
     "data": {
      "text/plain": [
       "2021    715731\n",
       "2020    332844\n",
       "Name: year, dtype: int64"
      ]
     },
     "execution_count": 20,
     "metadata": {},
     "output_type": "execute_result"
    }
   ],
   "source": [
    "df_stock.year.value_counts()"
   ]
  },
  {
   "cell_type": "code",
   "execution_count": 21,
   "id": "7ecb4aed",
   "metadata": {},
   "outputs": [
    {
     "data": {
      "text/plain": [
       "min     -12226.000000\n",
       "max     149004.000000\n",
       "mean        79.705856\n",
       "Name: stock_demand, dtype: float64"
      ]
     },
     "execution_count": 21,
     "metadata": {},
     "output_type": "execute_result"
    }
   ],
   "source": [
    "df_stock['stock_demand'].agg(['min', 'max','mean'])"
   ]
  },
  {
   "cell_type": "markdown",
   "id": "d8dac1c3",
   "metadata": {},
   "source": [
    " ### Outlier Analysis and removal"
   ]
  },
  {
   "cell_type": "code",
   "execution_count": 22,
   "id": "795e354b",
   "metadata": {},
   "outputs": [
    {
     "data": {
      "text/plain": [
       "Text(0.5, 0, 'Stock Demand')"
      ]
     },
     "execution_count": 22,
     "metadata": {},
     "output_type": "execute_result"
    },
    {
     "data": {
      "image/png": "[encoded data removed]",
      "text/plain": [
       "<Figure size 432x288 with 1 Axes>"
      ]
     },
     "metadata": {},
     "output_type": "display_data"
    }
   ],
   "source": [
    "bin_edges = np.arange(0,df_stock['stock_demand'].max()+5000,2500)\n",
    "sns.histplot(data=df_stock,x='stock_demand',bins=bin_edges).set(title='Product Stock frequency distribution');\n",
    "plt.yscale('log')\n",
    "plt.xlim(0,85000)\n",
    "plt.xlabel('Stock Demand')"
   ]
  },
  {
   "cell_type": "code",
   "execution_count": 23,
   "id": "f20047ef",
   "metadata": {},
   "outputs": [
    {
     "data": {
      "text/plain": [
       "<AxesSubplot:title={'center':'product purchased (unit is in boxes)'}, xlabel='date'>"
      ]
     },
     "execution_count": 23,
     "metadata": {},
     "output_type": "execute_result"
    },
    {
     "data": {
      "image/png": "[encoded data removed]",
      "text/plain": [
       "<Figure size 1080x360 with 1 Axes>"
      ]
     },
     "metadata": {},
     "output_type": "display_data"
    }
   ],
   "source": [
    "df_stock.query('stock_demand < -2000').plot(x=\"date\",y=\"stock_demand\" ,style='.',\n",
    "        figsize=(15, 5),\n",
    "        title='product purchased (unit is in boxes)')\n"
   ]
  },
  {
   "cell_type": "code",
   "execution_count": 24,
   "id": "866eeeaa",
   "metadata": {
    "scrolled": false
   },
   "outputs": [
    {
     "data": {
      "text/plain": [
       "<AxesSubplot:title={'center':'product purchased (unit is in boxes)'}, xlabel='date'>"
      ]
     },
     "execution_count": 24,
     "metadata": {},
     "output_type": "execute_result"
    },
    {
     "data": {
      "image/png": "[encoded data removed]",
      "text/plain": [
       "<Figure size 1080x360 with 1 Axes>"
      ]
     },
     "metadata": {},
     "output_type": "display_data"
    }
   ],
   "source": [
    "df_stock.query('stock_demand > 20000').plot(x=\"date\",y=\"stock_demand\" ,style='.',\n",
    "        figsize=(15, 5),\n",
    "        title='product purchased (unit is in boxes)')\n"
   ]
  },
  {
   "cell_type": "code",
   "execution_count": 25,
   "id": "25c4bf10",
   "metadata": {},
   "outputs": [],
   "source": [
    "df_stock = df[(df_stock['stock_demand'] >= -2000) & (df_stock['stock_demand'] <= 20000)].copy()\n",
    "#df_stock.query((\"stock_demand < 40000\") and (\"stock_demand < -2000\")).copy()"
   ]
  },
  {
   "cell_type": "code",
   "execution_count": 26,
   "id": "8384da25",
   "metadata": {},
   "outputs": [
    {
     "data": {
      "text/plain": [
       "(1048425, 8)"
      ]
     },
     "execution_count": 26,
     "metadata": {},
     "output_type": "execute_result"
    }
   ],
   "source": [
    "df_stock.shape"
   ]
  },
  {
   "cell_type": "code",
   "execution_count": 27,
   "id": "e03b51e4",
   "metadata": {
    "scrolled": false
   },
   "outputs": [
    {
     "data": {
      "text/html": [
       "<div>\n",
       "<style scoped>\n",
       "    .dataframe tbody tr th:only-of-type {\n",
       "        vertical-align: middle;\n",
       "    }\n",
       "\n",
       "    .dataframe tbody tr th {\n",
       "        vertical-align: top;\n",
       "    }\n",
       "\n",
       "    .dataframe thead th {\n",
       "        text-align: right;\n",
       "    }\n",
       "</style>\n",
       "<table border=\"1\" class=\"dataframe\">\n",
       "  <thead>\n",
       "    <tr style=\"text-align: right;\">\n",
       "      <th></th>\n",
       "      <th>product_id</th>\n",
       "      <th>stock_demand</th>\n",
       "      <th>year</th>\n",
       "      <th>month</th>\n",
       "      <th>day</th>\n",
       "      <th>day_of_year</th>\n",
       "      <th>day_of_week</th>\n",
       "      <th>week_of_year</th>\n",
       "    </tr>\n",
       "  </thead>\n",
       "  <tbody>\n",
       "    <tr>\n",
       "      <th>330818</th>\n",
       "      <td>A03NR</td>\n",
       "      <td>2</td>\n",
       "      <td>2020</td>\n",
       "      <td>12</td>\n",
       "      <td>18</td>\n",
       "      <td>353</td>\n",
       "      <td>4</td>\n",
       "      <td>51</td>\n",
       "    </tr>\n",
       "    <tr>\n",
       "      <th>708745</th>\n",
       "      <td>2I0SO</td>\n",
       "      <td>6</td>\n",
       "      <td>2021</td>\n",
       "      <td>4</td>\n",
       "      <td>11</td>\n",
       "      <td>101</td>\n",
       "      <td>6</td>\n",
       "      <td>14</td>\n",
       "    </tr>\n",
       "    <tr>\n",
       "      <th>76138</th>\n",
       "      <td>TS6O0</td>\n",
       "      <td>7</td>\n",
       "      <td>2020</td>\n",
       "      <td>10</td>\n",
       "      <td>27</td>\n",
       "      <td>301</td>\n",
       "      <td>1</td>\n",
       "      <td>44</td>\n",
       "    </tr>\n",
       "    <tr>\n",
       "      <th>716068</th>\n",
       "      <td>ZDS30</td>\n",
       "      <td>14</td>\n",
       "      <td>2021</td>\n",
       "      <td>4</td>\n",
       "      <td>5</td>\n",
       "      <td>95</td>\n",
       "      <td>0</td>\n",
       "      <td>14</td>\n",
       "    </tr>\n",
       "    <tr>\n",
       "      <th>827056</th>\n",
       "      <td>0ET3P</td>\n",
       "      <td>2</td>\n",
       "      <td>2021</td>\n",
       "      <td>5</td>\n",
       "      <td>18</td>\n",
       "      <td>138</td>\n",
       "      <td>1</td>\n",
       "      <td>20</td>\n",
       "    </tr>\n",
       "  </tbody>\n",
       "</table>\n",
       "</div>"
      ],
      "text/plain": [
       "       product_id  stock_demand  year  month  day  day_of_year  day_of_week  \\\n",
       "330818      A03NR             2  2020     12   18          353            4   \n",
       "708745      2I0SO             6  2021      4   11          101            6   \n",
       "76138       TS6O0             7  2020     10   27          301            1   \n",
       "716068      ZDS30            14  2021      4    5           95            0   \n",
       "827056      0ET3P             2  2021      5   18          138            1   \n",
       "\n",
       "        week_of_year  \n",
       "330818            51  \n",
       "708745            14  \n",
       "76138             44  \n",
       "716068            14  \n",
       "827056            20  "
      ]
     },
     "execution_count": 27,
     "metadata": {},
     "output_type": "execute_result"
    }
   ],
   "source": [
    "df_stock.sample(5)"
   ]
  },
  {
   "cell_type": "markdown",
   "id": "03e265c8",
   "metadata": {},
   "source": [
    "Annual, weekly and daily seasonality"
   ]
  },
  {
   "cell_type": "code",
   "execution_count": 28,
   "id": "35ac970b",
   "metadata": {
    "scrolled": false
   },
   "outputs": [
    {
     "data": {
      "image/png": "[encoded data removed]",
      "text/plain": [
       "<Figure size 504x360 with 1 Axes>"
      ]
     },
     "metadata": {},
     "output_type": "display_data"
    }
   ],
   "source": [
    "# Boxplot for annual seasonality\n",
    "df_stock['y_m'] = pd.to_datetime(df_stock[[\"year\",\"month\",\"day\"]])\n",
    "df_stock['y_m']  = df_stock['y_m'].dt.strftime('%Y-%m')\n",
    "\n",
    "fig, ax = plt.subplots(figsize=(7, 5))\n",
    "df_stock.boxplot(column='stock_demand', by='y_m', ax=ax)\n",
    "df_stock.groupby('y_m')['stock_demand'].median().plot(style='o-', linewidth=0.8, ax=ax)\n",
    "\n",
    "ax.set_yscale('log')\n",
    "# plt.yticks(ticks, labels);\n",
    "for tick in ax.get_xticklabels():\n",
    "    tick.set_rotation(45)\n",
    "ax.set_ylabel('Stock Demand')\n",
    "ax.set_xlabel('Month')\n",
    "ax.set_title('Purchase distribution by month')\n",
    "fig.suptitle('');"
   ]
  },
  {
   "cell_type": "markdown",
   "id": "f7969e84",
   "metadata": {},
   "source": [
    "It is observed that there is annual seasonality with downward decrease starting october 2020 and highest (median) demand values in march 2021 "
   ]
  },
  {
   "cell_type": "code",
   "execution_count": 29,
   "id": "cd0e94c9",
   "metadata": {},
   "outputs": [
    {
     "data": {
      "image/png": "[encoded data removed]",
      "text/plain": [
       "<Figure size 504x360 with 1 Axes>"
      ]
     },
     "metadata": {},
     "output_type": "display_data"
    }
   ],
   "source": [
    "# Boxplot for weekly seasonality\n",
    "fig, ax = plt.subplots(figsize=(7, 5))\n",
    "df_stock['day_of_week'] = df_stock.day_of_week + 1\n",
    "df_stock.boxplot(column='stock_demand', by='day_of_week', ax=ax)\n",
    "df_stock.groupby('day_of_week')['stock_demand'].median().plot(style='o-', linewidth=0.8, ax=ax)\n",
    "ax.set_ylabel('Stock demand')\n",
    "ax.set_title('Purchase distribution by week day')\n",
    "ax.set_yscale('log')\n",
    "fig.suptitle('');"
   ]
  },
  {
   "cell_type": "markdown",
   "id": "1901c00f",
   "metadata": {},
   "source": [
    "Weekly seasonality shows lower demand values during the weekend."
   ]
  },
  {
   "cell_type": "markdown",
   "id": "33f2cde3",
   "metadata": {},
   "source": [
    "Daily, Monthly Average for data"
   ]
  },
  {
   "cell_type": "code",
   "execution_count": 30,
   "id": "165039c7",
   "metadata": {},
   "outputs": [
    {
     "data": {
      "text/html": [
       "<div>\n",
       "<style scoped>\n",
       "    .dataframe tbody tr th:only-of-type {\n",
       "        vertical-align: middle;\n",
       "    }\n",
       "\n",
       "    .dataframe tbody tr th {\n",
       "        vertical-align: top;\n",
       "    }\n",
       "\n",
       "    .dataframe thead th {\n",
       "        text-align: right;\n",
       "    }\n",
       "</style>\n",
       "<table border=\"1\" class=\"dataframe\">\n",
       "  <thead>\n",
       "    <tr style=\"text-align: right;\">\n",
       "      <th></th>\n",
       "      <th>product_id</th>\n",
       "      <th>stock_demand</th>\n",
       "      <th>year</th>\n",
       "      <th>month</th>\n",
       "      <th>day</th>\n",
       "      <th>day_of_year</th>\n",
       "      <th>day_of_week</th>\n",
       "      <th>week_of_year</th>\n",
       "      <th>y_m</th>\n",
       "      <th>daily_avg</th>\n",
       "      <th>monthly_avg</th>\n",
       "    </tr>\n",
       "  </thead>\n",
       "  <tbody>\n",
       "    <tr>\n",
       "      <th>596782</th>\n",
       "      <td>ST6R1</td>\n",
       "      <td>9</td>\n",
       "      <td>2021</td>\n",
       "      <td>3</td>\n",
       "      <td>8</td>\n",
       "      <td>67</td>\n",
       "      <td>1</td>\n",
       "      <td>10</td>\n",
       "      <td>2021-03</td>\n",
       "      <td>7.000000</td>\n",
       "      <td>6.875000</td>\n",
       "    </tr>\n",
       "    <tr>\n",
       "      <th>60672</th>\n",
       "      <td>R10HA</td>\n",
       "      <td>4</td>\n",
       "      <td>2020</td>\n",
       "      <td>10</td>\n",
       "      <td>29</td>\n",
       "      <td>303</td>\n",
       "      <td>4</td>\n",
       "      <td>44</td>\n",
       "      <td>2020-10</td>\n",
       "      <td>12.980769</td>\n",
       "      <td>6.000000</td>\n",
       "    </tr>\n",
       "    <tr>\n",
       "      <th>515387</th>\n",
       "      <td>RC0I1</td>\n",
       "      <td>21</td>\n",
       "      <td>2021</td>\n",
       "      <td>2</td>\n",
       "      <td>23</td>\n",
       "      <td>54</td>\n",
       "      <td>2</td>\n",
       "      <td>8</td>\n",
       "      <td>2021-02</td>\n",
       "      <td>24.923077</td>\n",
       "      <td>16.230769</td>\n",
       "    </tr>\n",
       "    <tr>\n",
       "      <th>2520</th>\n",
       "      <td>3BIO2</td>\n",
       "      <td>1</td>\n",
       "      <td>2020</td>\n",
       "      <td>10</td>\n",
       "      <td>9</td>\n",
       "      <td>283</td>\n",
       "      <td>5</td>\n",
       "      <td>41</td>\n",
       "      <td>2020-10</td>\n",
       "      <td>5.800000</td>\n",
       "      <td>4.864865</td>\n",
       "    </tr>\n",
       "    <tr>\n",
       "      <th>764874</th>\n",
       "      <td>V0TI4</td>\n",
       "      <td>3</td>\n",
       "      <td>2021</td>\n",
       "      <td>4</td>\n",
       "      <td>7</td>\n",
       "      <td>97</td>\n",
       "      <td>3</td>\n",
       "      <td>14</td>\n",
       "      <td>2021-04</td>\n",
       "      <td>25.612676</td>\n",
       "      <td>35.512195</td>\n",
       "    </tr>\n",
       "    <tr>\n",
       "      <th>761894</th>\n",
       "      <td>4SN0O</td>\n",
       "      <td>1</td>\n",
       "      <td>2021</td>\n",
       "      <td>4</td>\n",
       "      <td>29</td>\n",
       "      <td>119</td>\n",
       "      <td>4</td>\n",
       "      <td>17</td>\n",
       "      <td>2021-04</td>\n",
       "      <td>769.266667</td>\n",
       "      <td>1156.869565</td>\n",
       "    </tr>\n",
       "    <tr>\n",
       "      <th>943710</th>\n",
       "      <td>0VO1M</td>\n",
       "      <td>10</td>\n",
       "      <td>2021</td>\n",
       "      <td>6</td>\n",
       "      <td>8</td>\n",
       "      <td>159</td>\n",
       "      <td>2</td>\n",
       "      <td>23</td>\n",
       "      <td>2021-06</td>\n",
       "      <td>28.291667</td>\n",
       "      <td>10.724138</td>\n",
       "    </tr>\n",
       "    <tr>\n",
       "      <th>1011918</th>\n",
       "      <td>0IL1D</td>\n",
       "      <td>64</td>\n",
       "      <td>2021</td>\n",
       "      <td>7</td>\n",
       "      <td>25</td>\n",
       "      <td>206</td>\n",
       "      <td>7</td>\n",
       "      <td>29</td>\n",
       "      <td>2021-07</td>\n",
       "      <td>33.648649</td>\n",
       "      <td>84.333333</td>\n",
       "    </tr>\n",
       "    <tr>\n",
       "      <th>536164</th>\n",
       "      <td>01UAN</td>\n",
       "      <td>1</td>\n",
       "      <td>2021</td>\n",
       "      <td>2</td>\n",
       "      <td>3</td>\n",
       "      <td>34</td>\n",
       "      <td>3</td>\n",
       "      <td>5</td>\n",
       "      <td>2021-02</td>\n",
       "      <td>10.277778</td>\n",
       "      <td>4.294118</td>\n",
       "    </tr>\n",
       "    <tr>\n",
       "      <th>997321</th>\n",
       "      <td>BA20G</td>\n",
       "      <td>62</td>\n",
       "      <td>2021</td>\n",
       "      <td>6</td>\n",
       "      <td>18</td>\n",
       "      <td>169</td>\n",
       "      <td>5</td>\n",
       "      <td>24</td>\n",
       "      <td>2021-06</td>\n",
       "      <td>46.151899</td>\n",
       "      <td>60.533333</td>\n",
       "    </tr>\n",
       "  </tbody>\n",
       "</table>\n",
       "</div>"
      ],
      "text/plain": [
       "        product_id  stock_demand  year  month  day  day_of_year  day_of_week  \\\n",
       "596782       ST6R1             9  2021      3    8           67            1   \n",
       "60672        R10HA             4  2020     10   29          303            4   \n",
       "515387       RC0I1            21  2021      2   23           54            2   \n",
       "2520         3BIO2             1  2020     10    9          283            5   \n",
       "764874       V0TI4             3  2021      4    7           97            3   \n",
       "761894       4SN0O             1  2021      4   29          119            4   \n",
       "943710       0VO1M            10  2021      6    8          159            2   \n",
       "1011918      0IL1D            64  2021      7   25          206            7   \n",
       "536164       01UAN             1  2021      2    3           34            3   \n",
       "997321       BA20G            62  2021      6   18          169            5   \n",
       "\n",
       "         week_of_year      y_m   daily_avg  monthly_avg  \n",
       "596782             10  2021-03    7.000000     6.875000  \n",
       "60672              44  2020-10   12.980769     6.000000  \n",
       "515387              8  2021-02   24.923077    16.230769  \n",
       "2520               41  2020-10    5.800000     4.864865  \n",
       "764874             14  2021-04   25.612676    35.512195  \n",
       "761894             17  2021-04  769.266667  1156.869565  \n",
       "943710             23  2021-06   28.291667    10.724138  \n",
       "1011918            29  2021-07   33.648649    84.333333  \n",
       "536164              5  2021-02   10.277778     4.294118  \n",
       "997321             24  2021-06   46.151899    60.533333  "
      ]
     },
     "execution_count": 30,
     "metadata": {},
     "output_type": "execute_result"
    }
   ],
   "source": [
    "df_stock['daily_avg']  = df_stock.groupby(['product_id','day_of_week'])['stock_demand'].transform('mean')\n",
    "df_stock['monthly_avg'] = df_stock.groupby(['product_id','month'])['stock_demand'].transform('mean')\n",
    "\n",
    "df_stock.sample(10)"
   ]
  },
  {
   "cell_type": "code",
   "execution_count": 31,
   "id": "dfdf866d",
   "metadata": {},
   "outputs": [
    {
     "name": "stdout",
     "output_type": "stream",
     "text": [
      "      product_id  day_of_week  stock_demand\n",
      "0          0010R            1      2.833333\n",
      "1          0010R            2      4.000000\n",
      "2          0010R            3      1.000000\n",
      "3          0010R            4      1.500000\n",
      "4          0010R            5      1.000000\n",
      "...          ...          ...           ...\n",
      "45249      ZVI02            3      9.606061\n",
      "45250      ZVI02            4    210.000000\n",
      "45251      ZVI02            5    141.565217\n",
      "45252      ZVI02            6      2.000000\n",
      "45253      ZVI02            7      2.000000\n",
      "\n",
      "[45254 rows x 3 columns]       product_id  month  stock_demand\n",
      "0          0010R      2      1.000000\n",
      "1          0010R      3      2.666667\n",
      "2          0010R      4      2.000000\n",
      "3          0010R      5      1.000000\n",
      "4          0010R      6      5.000000\n",
      "...          ...    ...           ...\n",
      "63946      ZVI02      6    174.777778\n",
      "63947      ZVI02      7      6.400000\n",
      "63948      ZVI02     10     17.750000\n",
      "63949      ZVI02     11      5.812500\n",
      "63950      ZVI02     12     10.875000\n",
      "\n",
      "[63951 rows x 3 columns]\n"
     ]
    }
   ],
   "source": [
    "# Average sales for Day_of_week = d per Item,Store\n",
    "daymonth_avg = df_stock.groupby(['product_id','day_of_week'])['stock_demand'].mean().reset_index()\n",
    "# Average sales for Month = m per Item,Store\n",
    "monthly_avg = df_stock.groupby(['product_id','month'])['stock_demand'].mean().reset_index()\n",
    "\n",
    "print(daymonth_avg,monthly_avg)"
   ]
  },
  {
   "cell_type": "code",
   "execution_count": 32,
   "id": "58a9b7ac",
   "metadata": {},
   "outputs": [
    {
     "data": {
      "image/png": "[encoded data removed]",
      "text/plain": [
       "<Figure size 1152x432 with 2 Axes>"
      ]
     },
     "metadata": {},
     "output_type": "display_data"
    }
   ],
   "source": [
    "# Increase the size of the heatmap.\n",
    "plt.figure(figsize=(16, 6))\n",
    "# Store heatmap object in a variable to easily access it when you want to include more features (such as title).\n",
    "# Set the range of values to be displayed on the colormap from -1 to 1, and set the annotation to True to display the correlation values on the heatmap.\n",
    "heatmap = sns.heatmap(df_stock.corr(), vmin=-1, vmax=1, annot=True,cmap='BrBG')\n",
    "# Give a title to the heatmap. Pad defines the distance of the title from the top of the heatmap.\n",
    "heatmap.set_title('Correlation Heatmap', fontdict={'fontsize':12}, pad=12);"
   ]
  },
  {
   "cell_type": "markdown",
   "id": "f4ad4bc9",
   "metadata": {},
   "source": [
    "### Reviewing: Train / Test Split"
   ]
  },
  {
   "cell_type": "code",
   "execution_count": 33,
   "id": "9779d5cf",
   "metadata": {},
   "outputs": [],
   "source": [
    "label_encoder = preprocessing.LabelEncoder()\n",
    "\n",
    "df_stock['id'] = df_stock.loc[:, 'product_id']\n",
    "\n",
    "df_stock['id']= label_encoder.fit_transform(df_stock['id'])\n",
    "\n"
   ]
  },
  {
   "cell_type": "code",
   "execution_count": 34,
   "id": "a039286e",
   "metadata": {},
   "outputs": [
    {
     "name": "stdout",
     "output_type": "stream",
     "text": [
      "training data size : (781699, 13)\n",
      "validation data size : (266726, 13)\n"
     ]
    }
   ],
   "source": [
    "df_stock['date'] = pd.to_datetime(df_stock[[\"year\",\"month\",\"day\"]])\n",
    "\n",
    "# Filter data using dates\n",
    "train_df = df_stock.loc[(df_stock['date'] < '2021-05-01')]\n",
    "test_df = df_stock.loc[(df_stock['date'] >= '2021-05-01')]\n",
    "print(f'training data size : {train_df.shape}')\n",
    "print(f'validation data size : {test_df.shape}')"
   ]
  },
  {
   "cell_type": "code",
   "execution_count": 35,
   "id": "af48af46",
   "metadata": {},
   "outputs": [
    {
     "data": {
      "image/png": "[encoded data removed]",
      "text/plain": [
       "<Figure size 1080x360 with 1 Axes>"
      ]
     },
     "metadata": {},
     "output_type": "display_data"
    }
   ],
   "source": [
    "fig, ax = plt.subplots(figsize=(15, 5))\n",
    "train_df.plot(x='date' , y='stock_demand' ,ax=ax, label='Training Set', title='Data Train/Test Split')\n",
    "test_df.plot( x='date' , y='stock_demand' ,ax=ax, label='Test Set')\n",
    "ax.axvline('2021-05-01', color='black', ls='--')\n",
    "ax.legend(['Training Set', 'Test Set'])\n",
    "plt.show()"
   ]
  },
  {
   "cell_type": "code",
   "execution_count": 36,
   "id": "564c0614",
   "metadata": {
    "scrolled": false
   },
   "outputs": [
    {
     "data": {
      "text/html": [
       "<div>\n",
       "<style scoped>\n",
       "    .dataframe tbody tr th:only-of-type {\n",
       "        vertical-align: middle;\n",
       "    }\n",
       "\n",
       "    .dataframe tbody tr th {\n",
       "        vertical-align: top;\n",
       "    }\n",
       "\n",
       "    .dataframe thead th {\n",
       "        text-align: right;\n",
       "    }\n",
       "</style>\n",
       "<table border=\"1\" class=\"dataframe\">\n",
       "  <thead>\n",
       "    <tr style=\"text-align: right;\">\n",
       "      <th></th>\n",
       "      <th>product_id</th>\n",
       "      <th>stock_demand</th>\n",
       "      <th>year</th>\n",
       "      <th>month</th>\n",
       "      <th>day</th>\n",
       "      <th>day_of_year</th>\n",
       "      <th>day_of_week</th>\n",
       "      <th>week_of_year</th>\n",
       "      <th>y_m</th>\n",
       "      <th>daily_avg</th>\n",
       "      <th>monthly_avg</th>\n",
       "      <th>id</th>\n",
       "      <th>date</th>\n",
       "    </tr>\n",
       "  </thead>\n",
       "  <tbody>\n",
       "    <tr>\n",
       "      <th>0</th>\n",
       "      <td>I6DO4</td>\n",
       "      <td>-1</td>\n",
       "      <td>2020</td>\n",
       "      <td>10</td>\n",
       "      <td>5</td>\n",
       "      <td>279</td>\n",
       "      <td>1</td>\n",
       "      <td>41</td>\n",
       "      <td>2020-10</td>\n",
       "      <td>8.950000</td>\n",
       "      <td>0.333333</td>\n",
       "      <td>5121</td>\n",
       "      <td>2020-10-05</td>\n",
       "    </tr>\n",
       "    <tr>\n",
       "      <th>1</th>\n",
       "      <td>O40SR</td>\n",
       "      <td>16</td>\n",
       "      <td>2020</td>\n",
       "      <td>10</td>\n",
       "      <td>5</td>\n",
       "      <td>279</td>\n",
       "      <td>1</td>\n",
       "      <td>41</td>\n",
       "      <td>2020-10</td>\n",
       "      <td>62.394737</td>\n",
       "      <td>60.892308</td>\n",
       "      <td>6131</td>\n",
       "      <td>2020-10-05</td>\n",
       "    </tr>\n",
       "    <tr>\n",
       "      <th>2</th>\n",
       "      <td>Y03MS</td>\n",
       "      <td>306</td>\n",
       "      <td>2020</td>\n",
       "      <td>10</td>\n",
       "      <td>19</td>\n",
       "      <td>293</td>\n",
       "      <td>1</td>\n",
       "      <td>43</td>\n",
       "      <td>2020-10</td>\n",
       "      <td>190.200000</td>\n",
       "      <td>177.560000</td>\n",
       "      <td>7711</td>\n",
       "      <td>2020-10-19</td>\n",
       "    </tr>\n",
       "    <tr>\n",
       "      <th>3</th>\n",
       "      <td>B0OR2</td>\n",
       "      <td>307</td>\n",
       "      <td>2020</td>\n",
       "      <td>10</td>\n",
       "      <td>8</td>\n",
       "      <td>282</td>\n",
       "      <td>4</td>\n",
       "      <td>41</td>\n",
       "      <td>2020-10</td>\n",
       "      <td>154.100000</td>\n",
       "      <td>148.814815</td>\n",
       "      <td>3935</td>\n",
       "      <td>2020-10-08</td>\n",
       "    </tr>\n",
       "    <tr>\n",
       "      <th>4</th>\n",
       "      <td>EIM03</td>\n",
       "      <td>6</td>\n",
       "      <td>2020</td>\n",
       "      <td>10</td>\n",
       "      <td>2</td>\n",
       "      <td>276</td>\n",
       "      <td>5</td>\n",
       "      <td>40</td>\n",
       "      <td>2020-10</td>\n",
       "      <td>11.175676</td>\n",
       "      <td>10.681818</td>\n",
       "      <td>4638</td>\n",
       "      <td>2020-10-02</td>\n",
       "    </tr>\n",
       "    <tr>\n",
       "      <th>...</th>\n",
       "      <td>...</td>\n",
       "      <td>...</td>\n",
       "      <td>...</td>\n",
       "      <td>...</td>\n",
       "      <td>...</td>\n",
       "      <td>...</td>\n",
       "      <td>...</td>\n",
       "      <td>...</td>\n",
       "      <td>...</td>\n",
       "      <td>...</td>\n",
       "      <td>...</td>\n",
       "      <td>...</td>\n",
       "      <td>...</td>\n",
       "    </tr>\n",
       "    <tr>\n",
       "      <th>781802</th>\n",
       "      <td>R2GU0</td>\n",
       "      <td>2</td>\n",
       "      <td>2021</td>\n",
       "      <td>4</td>\n",
       "      <td>28</td>\n",
       "      <td>118</td>\n",
       "      <td>3</td>\n",
       "      <td>17</td>\n",
       "      <td>2021-04</td>\n",
       "      <td>3.090909</td>\n",
       "      <td>2.900000</td>\n",
       "      <td>6657</td>\n",
       "      <td>2021-04-28</td>\n",
       "    </tr>\n",
       "    <tr>\n",
       "      <th>781803</th>\n",
       "      <td>1N1TI</td>\n",
       "      <td>1</td>\n",
       "      <td>2021</td>\n",
       "      <td>4</td>\n",
       "      <td>26</td>\n",
       "      <td>116</td>\n",
       "      <td>1</td>\n",
       "      <td>17</td>\n",
       "      <td>2021-04</td>\n",
       "      <td>2.473684</td>\n",
       "      <td>2.333333</td>\n",
       "      <td>1547</td>\n",
       "      <td>2021-04-26</td>\n",
       "    </tr>\n",
       "    <tr>\n",
       "      <th>781804</th>\n",
       "      <td>0CL1O</td>\n",
       "      <td>1</td>\n",
       "      <td>2021</td>\n",
       "      <td>4</td>\n",
       "      <td>21</td>\n",
       "      <td>111</td>\n",
       "      <td>3</td>\n",
       "      <td>16</td>\n",
       "      <td>2021-04</td>\n",
       "      <td>92.351190</td>\n",
       "      <td>87.402062</td>\n",
       "      <td>420</td>\n",
       "      <td>2021-04-21</td>\n",
       "    </tr>\n",
       "    <tr>\n",
       "      <th>781805</th>\n",
       "      <td>OXD01</td>\n",
       "      <td>1</td>\n",
       "      <td>2021</td>\n",
       "      <td>4</td>\n",
       "      <td>26</td>\n",
       "      <td>116</td>\n",
       "      <td>1</td>\n",
       "      <td>17</td>\n",
       "      <td>2021-04</td>\n",
       "      <td>11.275862</td>\n",
       "      <td>7.900000</td>\n",
       "      <td>6299</td>\n",
       "      <td>2021-04-26</td>\n",
       "    </tr>\n",
       "    <tr>\n",
       "      <th>781806</th>\n",
       "      <td>DZ71R</td>\n",
       "      <td>2</td>\n",
       "      <td>2021</td>\n",
       "      <td>4</td>\n",
       "      <td>26</td>\n",
       "      <td>116</td>\n",
       "      <td>1</td>\n",
       "      <td>17</td>\n",
       "      <td>2021-04</td>\n",
       "      <td>37.750000</td>\n",
       "      <td>17.309524</td>\n",
       "      <td>4401</td>\n",
       "      <td>2021-04-26</td>\n",
       "    </tr>\n",
       "  </tbody>\n",
       "</table>\n",
       "<p>781699 rows × 13 columns</p>\n",
       "</div>"
      ],
      "text/plain": [
       "       product_id  stock_demand  year  month  day  day_of_year  day_of_week  \\\n",
       "0           I6DO4            -1  2020     10    5          279            1   \n",
       "1           O40SR            16  2020     10    5          279            1   \n",
       "2           Y03MS           306  2020     10   19          293            1   \n",
       "3           B0OR2           307  2020     10    8          282            4   \n",
       "4           EIM03             6  2020     10    2          276            5   \n",
       "...           ...           ...   ...    ...  ...          ...          ...   \n",
       "781802      R2GU0             2  2021      4   28          118            3   \n",
       "781803      1N1TI             1  2021      4   26          116            1   \n",
       "781804      0CL1O             1  2021      4   21          111            3   \n",
       "781805      OXD01             1  2021      4   26          116            1   \n",
       "781806      DZ71R             2  2021      4   26          116            1   \n",
       "\n",
       "        week_of_year      y_m   daily_avg  monthly_avg    id       date  \n",
       "0                 41  2020-10    8.950000     0.333333  5121 2020-10-05  \n",
       "1                 41  2020-10   62.394737    60.892308  6131 2020-10-05  \n",
       "2                 43  2020-10  190.200000   177.560000  7711 2020-10-19  \n",
       "3                 41  2020-10  154.100000   148.814815  3935 2020-10-08  \n",
       "4                 40  2020-10   11.175676    10.681818  4638 2020-10-02  \n",
       "...              ...      ...         ...          ...   ...        ...  \n",
       "781802            17  2021-04    3.090909     2.900000  6657 2021-04-28  \n",
       "781803            17  2021-04    2.473684     2.333333  1547 2021-04-26  \n",
       "781804            16  2021-04   92.351190    87.402062   420 2021-04-21  \n",
       "781805            17  2021-04   11.275862     7.900000  6299 2021-04-26  \n",
       "781806            17  2021-04   37.750000    17.309524  4401 2021-04-26  \n",
       "\n",
       "[781699 rows x 13 columns]"
      ]
     },
     "execution_count": 36,
     "metadata": {},
     "output_type": "execute_result"
    }
   ],
   "source": [
    "train_df"
   ]
  },
  {
   "cell_type": "markdown",
   "id": "30c96400",
   "metadata": {},
   "source": [
    "#### Time Series Cross Validation"
   ]
  },
  {
   "cell_type": "code",
   "execution_count": 37,
   "id": "b8e8576b",
   "metadata": {},
   "outputs": [
    {
     "data": {
      "text/html": [
       "<div>\n",
       "<style scoped>\n",
       "    .dataframe tbody tr th:only-of-type {\n",
       "        vertical-align: middle;\n",
       "    }\n",
       "\n",
       "    .dataframe tbody tr th {\n",
       "        vertical-align: top;\n",
       "    }\n",
       "\n",
       "    .dataframe thead th {\n",
       "        text-align: right;\n",
       "    }\n",
       "</style>\n",
       "<table border=\"1\" class=\"dataframe\">\n",
       "  <thead>\n",
       "    <tr style=\"text-align: right;\">\n",
       "      <th></th>\n",
       "      <th>product_id</th>\n",
       "      <th>stock_demand</th>\n",
       "      <th>year</th>\n",
       "      <th>month</th>\n",
       "      <th>day</th>\n",
       "      <th>day_of_year</th>\n",
       "      <th>day_of_week</th>\n",
       "      <th>week_of_year</th>\n",
       "      <th>y_m</th>\n",
       "      <th>daily_avg</th>\n",
       "      <th>monthly_avg</th>\n",
       "      <th>id</th>\n",
       "      <th>date</th>\n",
       "    </tr>\n",
       "  </thead>\n",
       "  <tbody>\n",
       "    <tr>\n",
       "      <th>85664</th>\n",
       "      <td>R8I8O</td>\n",
       "      <td>16</td>\n",
       "      <td>2020</td>\n",
       "      <td>10</td>\n",
       "      <td>1</td>\n",
       "      <td>275</td>\n",
       "      <td>4</td>\n",
       "      <td>40</td>\n",
       "      <td>2020-10</td>\n",
       "      <td>10.485714</td>\n",
       "      <td>11.454545</td>\n",
       "      <td>6797</td>\n",
       "      <td>2020-10-01</td>\n",
       "    </tr>\n",
       "    <tr>\n",
       "      <th>33312</th>\n",
       "      <td>AA80R</td>\n",
       "      <td>2</td>\n",
       "      <td>2020</td>\n",
       "      <td>10</td>\n",
       "      <td>1</td>\n",
       "      <td>275</td>\n",
       "      <td>4</td>\n",
       "      <td>40</td>\n",
       "      <td>2020-10</td>\n",
       "      <td>4.750000</td>\n",
       "      <td>4.600000</td>\n",
       "      <td>3750</td>\n",
       "      <td>2020-10-01</td>\n",
       "    </tr>\n",
       "    <tr>\n",
       "      <th>107867</th>\n",
       "      <td>0P6IR</td>\n",
       "      <td>-6</td>\n",
       "      <td>2020</td>\n",
       "      <td>10</td>\n",
       "      <td>1</td>\n",
       "      <td>275</td>\n",
       "      <td>4</td>\n",
       "      <td>40</td>\n",
       "      <td>2020-10</td>\n",
       "      <td>81.293103</td>\n",
       "      <td>78.571429</td>\n",
       "      <td>860</td>\n",
       "      <td>2020-10-01</td>\n",
       "    </tr>\n",
       "    <tr>\n",
       "      <th>103344</th>\n",
       "      <td>I2L4V</td>\n",
       "      <td>7</td>\n",
       "      <td>2020</td>\n",
       "      <td>10</td>\n",
       "      <td>1</td>\n",
       "      <td>275</td>\n",
       "      <td>4</td>\n",
       "      <td>40</td>\n",
       "      <td>2020-10</td>\n",
       "      <td>9.416667</td>\n",
       "      <td>9.666667</td>\n",
       "      <td>5041</td>\n",
       "      <td>2020-10-01</td>\n",
       "    </tr>\n",
       "    <tr>\n",
       "      <th>107864</th>\n",
       "      <td>C731E</td>\n",
       "      <td>33</td>\n",
       "      <td>2020</td>\n",
       "      <td>10</td>\n",
       "      <td>1</td>\n",
       "      <td>275</td>\n",
       "      <td>4</td>\n",
       "      <td>40</td>\n",
       "      <td>2020-10</td>\n",
       "      <td>106.648649</td>\n",
       "      <td>367.607143</td>\n",
       "      <td>4121</td>\n",
       "      <td>2020-10-01</td>\n",
       "    </tr>\n",
       "    <tr>\n",
       "      <th>...</th>\n",
       "      <td>...</td>\n",
       "      <td>...</td>\n",
       "      <td>...</td>\n",
       "      <td>...</td>\n",
       "      <td>...</td>\n",
       "      <td>...</td>\n",
       "      <td>...</td>\n",
       "      <td>...</td>\n",
       "      <td>...</td>\n",
       "      <td>...</td>\n",
       "      <td>...</td>\n",
       "      <td>...</td>\n",
       "      <td>...</td>\n",
       "    </tr>\n",
       "    <tr>\n",
       "      <th>700318</th>\n",
       "      <td>06DLO</td>\n",
       "      <td>200</td>\n",
       "      <td>2021</td>\n",
       "      <td>4</td>\n",
       "      <td>30</td>\n",
       "      <td>120</td>\n",
       "      <td>5</td>\n",
       "      <td>17</td>\n",
       "      <td>2021-04</td>\n",
       "      <td>122.272727</td>\n",
       "      <td>61.312500</td>\n",
       "      <td>260</td>\n",
       "      <td>2021-04-30</td>\n",
       "    </tr>\n",
       "    <tr>\n",
       "      <th>748133</th>\n",
       "      <td>Q01AU</td>\n",
       "      <td>190</td>\n",
       "      <td>2021</td>\n",
       "      <td>4</td>\n",
       "      <td>30</td>\n",
       "      <td>120</td>\n",
       "      <td>5</td>\n",
       "      <td>17</td>\n",
       "      <td>2021-04</td>\n",
       "      <td>203.977273</td>\n",
       "      <td>116.181818</td>\n",
       "      <td>6470</td>\n",
       "      <td>2021-04-30</td>\n",
       "    </tr>\n",
       "    <tr>\n",
       "      <th>700322</th>\n",
       "      <td>G0I3V</td>\n",
       "      <td>385</td>\n",
       "      <td>2021</td>\n",
       "      <td>4</td>\n",
       "      <td>30</td>\n",
       "      <td>120</td>\n",
       "      <td>5</td>\n",
       "      <td>17</td>\n",
       "      <td>2021-04</td>\n",
       "      <td>654.823529</td>\n",
       "      <td>415.346154</td>\n",
       "      <td>4819</td>\n",
       "      <td>2021-04-30</td>\n",
       "    </tr>\n",
       "    <tr>\n",
       "      <th>748119</th>\n",
       "      <td>SHC12</td>\n",
       "      <td>15</td>\n",
       "      <td>2021</td>\n",
       "      <td>4</td>\n",
       "      <td>30</td>\n",
       "      <td>120</td>\n",
       "      <td>5</td>\n",
       "      <td>17</td>\n",
       "      <td>2021-04</td>\n",
       "      <td>3.800000</td>\n",
       "      <td>2.875000</td>\n",
       "      <td>7153</td>\n",
       "      <td>2021-04-30</td>\n",
       "    </tr>\n",
       "    <tr>\n",
       "      <th>733919</th>\n",
       "      <td>2BMI0</td>\n",
       "      <td>3</td>\n",
       "      <td>2021</td>\n",
       "      <td>4</td>\n",
       "      <td>30</td>\n",
       "      <td>120</td>\n",
       "      <td>5</td>\n",
       "      <td>17</td>\n",
       "      <td>2021-04</td>\n",
       "      <td>12.968750</td>\n",
       "      <td>13.190476</td>\n",
       "      <td>1936</td>\n",
       "      <td>2021-04-30</td>\n",
       "    </tr>\n",
       "  </tbody>\n",
       "</table>\n",
       "<p>781699 rows × 13 columns</p>\n",
       "</div>"
      ],
      "text/plain": [
       "       product_id  stock_demand  year  month  day  day_of_year  day_of_week  \\\n",
       "85664       R8I8O            16  2020     10    1          275            4   \n",
       "33312       AA80R             2  2020     10    1          275            4   \n",
       "107867      0P6IR            -6  2020     10    1          275            4   \n",
       "103344      I2L4V             7  2020     10    1          275            4   \n",
       "107864      C731E            33  2020     10    1          275            4   \n",
       "...           ...           ...   ...    ...  ...          ...          ...   \n",
       "700318      06DLO           200  2021      4   30          120            5   \n",
       "748133      Q01AU           190  2021      4   30          120            5   \n",
       "700322      G0I3V           385  2021      4   30          120            5   \n",
       "748119      SHC12            15  2021      4   30          120            5   \n",
       "733919      2BMI0             3  2021      4   30          120            5   \n",
       "\n",
       "        week_of_year      y_m   daily_avg  monthly_avg    id       date  \n",
       "85664             40  2020-10   10.485714    11.454545  6797 2020-10-01  \n",
       "33312             40  2020-10    4.750000     4.600000  3750 2020-10-01  \n",
       "107867            40  2020-10   81.293103    78.571429   860 2020-10-01  \n",
       "103344            40  2020-10    9.416667     9.666667  5041 2020-10-01  \n",
       "107864            40  2020-10  106.648649   367.607143  4121 2020-10-01  \n",
       "...              ...      ...         ...          ...   ...        ...  \n",
       "700318            17  2021-04  122.272727    61.312500   260 2021-04-30  \n",
       "748133            17  2021-04  203.977273   116.181818  6470 2021-04-30  \n",
       "700322            17  2021-04  654.823529   415.346154  4819 2021-04-30  \n",
       "748119            17  2021-04    3.800000     2.875000  7153 2021-04-30  \n",
       "733919            17  2021-04   12.968750    13.190476  1936 2021-04-30  \n",
       "\n",
       "[781699 rows x 13 columns]"
      ]
     },
     "execution_count": 37,
     "metadata": {},
     "output_type": "execute_result"
    }
   ],
   "source": [
    "tss = TimeSeriesSplit(n_splits=3, test_size=24*90*1, gap=24)\n",
    "train_df = train_df.sort_values(by = 'date')\n",
    "test_df = test_df.sort_values(by = 'date')\n",
    "train_df"
   ]
  },
  {
   "cell_type": "code",
   "execution_count": 38,
   "id": "c516a531",
   "metadata": {},
   "outputs": [],
   "source": [
    "for df in [train_df, test_df]:\n",
    "    df.drop(['y_m',\n",
    "                'week_of_year',\n",
    "                'date',\n",
    "                'product_id' ],\n",
    "                 axis=1, \n",
    "                 inplace=True)"
   ]
  },
  {
   "cell_type": "markdown",
   "id": "9f59f462",
   "metadata": {},
   "source": [
    "#### Train Using Cross Validation"
   ]
  },
  {
   "cell_type": "code",
   "execution_count": 39,
   "id": "4ae21010",
   "metadata": {},
   "outputs": [],
   "source": [
    "FEATURES = ['day_of_year', 'day', 'month', 'day_of_week','year',\n",
    "                'id','daily_avg','monthly_avg']\n",
    "\n",
    "TARGET = 'stock_demand'\n",
    "\n",
    "\n",
    "# Training Data\n",
    "X_train = train_df[FEATURES]\n",
    "y_train = train_df[TARGET]\n",
    "# Test Data\n",
    "X_test = test_df[FEATURES]\n",
    "y_test = test_df[TARGET]\n",
    "\n"
   ]
  },
  {
   "cell_type": "code",
   "execution_count": 40,
   "id": "f9abbd3c",
   "metadata": {},
   "outputs": [
    {
     "name": "stdout",
     "output_type": "stream",
     "text": [
      "<class 'pandas.core.frame.DataFrame'>\n",
      "Int64Index: 781699 entries, 85664 to 733919\n",
      "Data columns (total 8 columns):\n",
      " #   Column       Non-Null Count   Dtype  \n",
      "---  ------       --------------   -----  \n",
      " 0   day_of_year  781699 non-null  int64  \n",
      " 1   day          781699 non-null  int64  \n",
      " 2   month        781699 non-null  int64  \n",
      " 3   day_of_week  781699 non-null  int64  \n",
      " 4   year         781699 non-null  int64  \n",
      " 5   id           781699 non-null  int32  \n",
      " 6   daily_avg    781699 non-null  float64\n",
      " 7   monthly_avg  781699 non-null  float64\n",
      "dtypes: float64(2), int32(1), int64(5)\n",
      "memory usage: 50.7 MB\n"
     ]
    }
   ],
   "source": [
    "X_train.info()"
   ]
  },
  {
   "cell_type": "code",
   "execution_count": 41,
   "id": "86a7124b",
   "metadata": {
    "scrolled": true
   },
   "outputs": [
    {
     "name": "stdout",
     "output_type": "stream",
     "text": [
      "Requirement already satisfied: xgboost in c:\\users\\administrator\\anaconda3\\lib\\site-packages (1.6.2)\n",
      "Requirement already satisfied: scipy in c:\\users\\administrator\\anaconda3\\lib\\site-packages (from xgboost) (1.7.3)\n",
      "Requirement already satisfied: numpy in c:\\users\\administrator\\anaconda3\\lib\\site-packages (from xgboost) (1.21.5)\n"
     ]
    }
   ],
   "source": [
    "import sys\n",
    "!{sys.executable} -m pip install xgboost"
   ]
  },
  {
   "cell_type": "code",
   "execution_count": 42,
   "id": "36b7eb85",
   "metadata": {},
   "outputs": [
    {
     "name": "stdout",
     "output_type": "stream",
     "text": [
      "[16:18:38] WARNING: C:/Users/administrator/workspace/xgboost-win64_release_1.6.0/src/objective/regression_obj.cu:203: reg:linear is now deprecated in favor of reg:squarederror.\n",
      "[0]\tvalidation_0-rmse:394.60250\tvalidation_1-rmse:424.78539\n",
      "[100]\tvalidation_0-rmse:329.22906\tvalidation_1-rmse:356.75783\n",
      "[200]\tvalidation_0-rmse:314.60049\tvalidation_1-rmse:340.61425\n",
      "[300]\tvalidation_0-rmse:310.27316\tvalidation_1-rmse:336.26443\n",
      "[400]\tvalidation_0-rmse:308.44089\tvalidation_1-rmse:335.11101\n",
      "[499]\tvalidation_0-rmse:307.32503\tvalidation_1-rmse:334.34618\n"
     ]
    }
   ],
   "source": [
    "preds = []\n",
    "scores = []\n",
    "\n",
    "reg = xgb.XGBRegressor(base_score=0.5, booster='gbtree',    \n",
    "                           n_estimators=500,\n",
    "                           early_stopping_rounds=50,\n",
    "                           objective='reg:linear',\n",
    "                           max_depth=3,\n",
    "                           learning_rate=0.01)\n",
    "reg.fit(X_train, y_train,\n",
    "            eval_set=[(X_train, y_train), (X_test, y_test)],\n",
    "            verbose=100)\n",
    "\n",
    "y_pred = reg.predict(X_test)\n",
    "preds.append(y_pred)\n",
    "score = np.sqrt(mean_squared_error(y_test, y_pred))\n",
    "scores.append(score)"
   ]
  },
  {
   "cell_type": "code",
   "execution_count": 43,
   "id": "0319f817",
   "metadata": {},
   "outputs": [
    {
     "name": "stdout",
     "output_type": "stream",
     "text": [
      "Score in 1 folds 334.3462\n"
     ]
    }
   ],
   "source": [
    "print(f'Score in 1 folds {np.mean(scores):0.4f}')"
   ]
  },
  {
   "cell_type": "code",
   "execution_count": 44,
   "id": "ae27787c",
   "metadata": {},
   "outputs": [
    {
     "name": "stdout",
     "output_type": "stream",
     "text": [
      "[16:19:57] WARNING: C:/Users/administrator/workspace/xgboost-win64_release_1.6.0/src/objective/regression_obj.cu:203: reg:linear is now deprecated in favor of reg:squarederror.\n",
      "[0]\tvalidation_0-rmse:402.48844\n",
      "[100]\tvalidation_0-rmse:335.99880\n",
      "[200]\tvalidation_0-rmse:320.54882\n",
      "[300]\tvalidation_0-rmse:316.12699\n",
      "[400]\tvalidation_0-rmse:314.25647\n",
      "[499]\tvalidation_0-rmse:313.09759\n"
     ]
    },
    {
     "data": {
      "text/plain": [
       "XGBRegressor(base_score=0.5, booster='gbtree', callbacks=None,\n",
       "             colsample_bylevel=1, colsample_bynode=1, colsample_bytree=1,\n",
       "             early_stopping_rounds=None, enable_categorical=False,\n",
       "             eval_metric=None, gamma=0, gpu_id=-1, grow_policy='depthwise',\n",
       "             importance_type=None, interaction_constraints='',\n",
       "             learning_rate=0.01, max_bin=256, max_cat_to_onehot=4,\n",
       "             max_delta_step=0, max_depth=3, max_leaves=0, min_child_weight=1,\n",
       "             missing=nan, monotone_constraints='()', n_estimators=500, n_jobs=0,\n",
       "             num_parallel_tree=1, objective='reg:linear', predictor='auto',\n",
       "             random_state=0, reg_alpha=0, ...)"
      ]
     },
     "execution_count": 44,
     "metadata": {},
     "output_type": "execute_result"
    }
   ],
   "source": [
    "# Retrain on all data\n",
    "FEATURES = ['day_of_year', 'day', 'month', 'day_of_week','year',\n",
    "                'id','daily_avg','monthly_avg']\n",
    "\n",
    "TARGET = 'stock_demand'\n",
    "\n",
    "X_all = df_stock[FEATURES]\n",
    "y_all = df_stock[TARGET]\n",
    "\n",
    "reg = xgb.XGBRegressor(base_score=0.5,\n",
    "                       booster='gbtree',    \n",
    "                       n_estimators=500,\n",
    "                       objective='reg:linear',\n",
    "                       max_depth=3,\n",
    "                       learning_rate=0.01)\n",
    "reg.fit(X_all, y_all,\n",
    "        eval_set=[(X_all, y_all)],\n",
    "        verbose=100)"
   ]
  },
  {
   "cell_type": "code",
   "execution_count": null,
   "id": "a68210a9",
   "metadata": {},
   "outputs": [],
   "source": []
  }
 ],
 "metadata": {
  "kernelspec": {
   "display_name": "Python 3 (ipykernel)",
   "language": "python",
   "name": "python3"
  },
  "language_info": {
   "codemirror_mode": {
    "name": "ipython",
    "version": 3
   },
   "file_extension": ".py",
   "mimetype": "text/x-python",
   "name": "python",
   "nbconvert_exporter": "python",
   "pygments_lexer": "ipython3",
   "version": "3.9.12"
  }
 },
 "nbformat": 4,
 "nbformat_minor": 5
}
